{
 "cells": [
  {
   "cell_type": "markdown",
   "metadata": {
    "tags": []
   },
   "source": [
    "# 0.Name & Z-ID (5 pts)\n",
    "Mounika Thudi \\\n",
    "Z1948596 \\\n",
    "Assignment 3"
   ]
  },
  {
   "cell_type": "code",
   "execution_count": 1,
   "metadata": {},
   "outputs": [],
   "source": [
    "import os\n",
    "import json\n",
    "from urllib.request import urlretrieve\n",
    "\n",
    "url = \"http://faculty.cs.niu.edu/~dakoop/cs503-2022sp/a3/food-data-sample.json\"\n",
    "local_fname = 'food-data-sample.json'\n",
    "if not os.path.exists(local_fname):\n",
    "    urlretrieve(url, local_fname)\n",
    "data = json.load(open(local_fname))"
   ]
  },
  {
   "cell_type": "code",
   "execution_count": 2,
   "metadata": {},
   "outputs": [
    {
     "data": {
      "text/plain": [
       "{'fdc_id': 345534,\n",
       " 'brand_owner': 'Red Gold',\n",
       " 'brand_name': None,\n",
       " 'description': 'Red Gold 28oz. Petite Diced Tomatoes',\n",
       " 'branded_food_category': None,\n",
       " 'ingredients': 'Tomatoes, Tomato Juice, Less Than 2% of: Salt, Calcium Chloride, Citric Acid',\n",
       " 'serving_size': 121.0,\n",
       " 'serving_size_unit': 'g',\n",
       " 'nutrition': [{'name': 'Fiber', 'amount': 0.8, 'unit_name': 'G'},\n",
       "  {'name': 'Saturated Fat', 'amount': 0.0, 'unit_name': 'G'},\n",
       "  {'name': 'Carbohydrates', 'amount': 4.13, 'unit_name': 'G'},\n",
       "  {'name': 'Sodium', 'amount': 149.0, 'unit_name': 'MG'},\n",
       "  {'name': 'Total Fat', 'amount': 0.0, 'unit_name': 'G'},\n",
       "  {'name': 'Protein', 'amount': 0.83, 'unit_name': 'G'},\n",
       "  {'name': 'Calories', 'amount': 21.0, 'unit_name': 'KCAL'},\n",
       "  {'name': 'Sugar', 'amount': 2.48, 'unit_name': 'G'}]}"
      ]
     },
     "execution_count": 2,
     "metadata": {},
     "output_type": "execute_result"
    }
   ],
   "source": [
    "# view the first entry\n",
    "data[0]"
   ]
  },
  {
   "cell_type": "markdown",
   "metadata": {},
   "source": [
    "# 1. Serving Size Units (5 pts)"
   ]
  },
  {
   "cell_type": "code",
   "execution_count": 3,
   "metadata": {},
   "outputs": [],
   "source": [
    "Serving_Size_Units_types = set()  # set lists each type only once\n",
    "for dic in data:\n",
    "    Serving_Size_Units_types.add(dic['serving_size_unit'])"
   ]
  },
  {
   "cell_type": "code",
   "execution_count": 4,
   "metadata": {},
   "outputs": [
    {
     "data": {
      "text/plain": [
       "{'g', 'ml'}"
      ]
     },
     "execution_count": 4,
     "metadata": {},
     "output_type": "execute_result"
    }
   ],
   "source": [
    "Serving_Size_Units_types"
   ]
  },
  {
   "cell_type": "markdown",
   "metadata": {},
   "source": [
    "# 2. Largest Serving Size (10 pts)"
   ]
  },
  {
   "cell_type": "code",
   "execution_count": 5,
   "metadata": {},
   "outputs": [
    {
     "name": "stdout",
     "output_type": "stream",
     "text": [
      "The largest serving size:  595.0\n",
      "The largest serving size food name: GOURMET POORBOY SUB SANDWICH\n",
      "The largest serving size brand owner: Schnuck Markets, Inc.\n"
     ]
    }
   ],
   "source": [
    "largest_serving_size_name = str()\n",
    "largest_serving_size_brand_owner = str()\n",
    "largest_serving_size = int()\n",
    "\n",
    "for dic in data:\n",
    "    if (\"serving_size_unit\", \"g\") in dic.items() and ((dic['serving_size'])) > largest_serving_size: # checks for serving size type in 'g' and largest serving size\n",
    "        largest_serving_size = ((dic['serving_size']))\n",
    "        largest_serving_size_brand_owner = (dic['brand_owner'])\n",
    "        largest_serving_size_name = (dic['description'])\n",
    "            \n",
    "print(\"The largest serving size:  {}\".format(largest_serving_size))\n",
    "print(\"The largest serving size food name: {}\".format(largest_serving_size_name))\n",
    "print(\"The largest serving size brand owner: {}\".format(largest_serving_size_brand_owner))"
   ]
  },
  {
   "cell_type": "markdown",
   "metadata": {},
   "source": [
    "# 3. Category Counts (10 pts)"
   ]
  },
  {
   "cell_type": "code",
   "execution_count": 6,
   "metadata": {},
   "outputs": [
    {
     "name": "stdout",
     "output_type": "stream",
     "text": [
      "The name of the category that has the largest number of items: Popcorn, Peanuts, Seeds & Related Snacks\n"
     ]
    }
   ],
   "source": [
    "category_counts  = dict()\n",
    "for dic in data:    \n",
    "    if dic['branded_food_category'] not in category_counts.keys():\n",
    "        category_counts[dic['branded_food_category']]=1\n",
    "    else:\n",
    "        category_counts[dic['branded_food_category']]+=1\n",
    "        \n",
    "largest_number_items = max(category_counts, key=category_counts.get)\n",
    "print(\"The name of the category that has the largest number of items:\",largest_number_items)"
   ]
  },
  {
   "cell_type": "markdown",
   "metadata": {},
   "source": [
    "# 4. Add Unsaturated Fat (15 pts)"
   ]
  },
  {
   "cell_type": "code",
   "execution_count": 7,
   "metadata": {},
   "outputs": [],
   "source": [
    "for dic in data:       \n",
    "    for item in dic['nutrition']:\n",
    "        if 'Total Fat' in item.values():\n",
    "            total_fat_value = item['amount']\n",
    "        if 'Saturated Fat' in item.values():\n",
    "            saturated_fat_value = item['amount']\n",
    "    if total_fat_value != None and saturated_fat_value!= None: # check for either value is none\n",
    "        Unsaturated_Fat_value = total_fat_value - saturated_fat_value\n",
    "    else:\n",
    "        Unsaturated_Fat_value = None\n",
    "    if 'Unsaturated Fat' not in item.values():\n",
    "        Unsaturateddict = {'name': 'Unsaturated Fat', 'amount': Unsaturated_Fat_value, 'unit_name': 'G'}\n",
    "        (dic['nutrition']).append(Unsaturateddict)"
   ]
  },
  {
   "cell_type": "code",
   "execution_count": 26,
   "metadata": {},
   "outputs": [
    {
     "data": {
      "text/plain": [
       "{'fdc_id': 374367,\n",
       " 'brand_owner': 'Swift-Eckrich Inc.',\n",
       " 'brand_name': None,\n",
       " 'description': 'PEPPERONI',\n",
       " 'branded_food_category': 'Pepperoni, Salami & Cold Cuts',\n",
       " 'ingredients': 'PORK, BEEF, SALT, CONTAINS 2% OR LESS OF FLAVORINGS, LACTIC ACID STARTER CULTURE, OLEORESIN OF PAPRIKA, SODIUM NITRITE, SPICES, SUGAR, BHA, BHT, CITRIC ACID.',\n",
       " 'serving_size': 28.0,\n",
       " 'serving_size_unit': 'g',\n",
       " 'nutrition': [{'name': 'Fiber', 'amount': 0.0, 'unit_name': 'G'},\n",
       "  {'name': 'Saturated Fat', 'amount': 14.29, 'unit_name': 'G'},\n",
       "  {'name': 'Carbohydrates', 'amount': 3.57, 'unit_name': 'G'},\n",
       "  {'name': 'Sodium', 'amount': 1786.0, 'unit_name': 'MG'},\n",
       "  {'name': 'Total Fat', 'amount': 39.29, 'unit_name': 'G'},\n",
       "  {'name': 'Protein', 'amount': 21.43, 'unit_name': 'G'},\n",
       "  {'name': 'Calories', 'amount': 464.0, 'unit_name': 'KCAL'},\n",
       "  {'name': 'Sugar', 'amount': 0.0, 'unit_name': 'G'},\n",
       "  {'name': 'Unsaturated Fat', 'amount': 25.0, 'unit_name': 'G'}]}"
      ]
     },
     "execution_count": 26,
     "metadata": {},
     "output_type": "execute_result"
    }
   ],
   "source": [
    "data[453]"
   ]
  },
  {
   "cell_type": "markdown",
   "metadata": {},
   "source": [
    "# 5. Filter by Fiber Range (15 pts)"
   ]
  },
  {
   "cell_type": "code",
   "execution_count": 9,
   "metadata": {},
   "outputs": [],
   "source": [
    "def filter_by_fiber (min_fiber, max_fiber):  # function \n",
    "    filtered_data = []\n",
    "    for dic in data:       \n",
    "        for item in dic['nutrition']:\n",
    "            if 'Fiber' in item.values():\n",
    "                fiber_value = item['amount']\n",
    "                if min_fiber <= fiber_value <= max_fiber:\n",
    "                    filtered_data.append(dic)\n",
    "    return filtered_data"
   ]
  },
  {
   "cell_type": "code",
   "execution_count": 10,
   "metadata": {},
   "outputs": [
    {
     "data": {
      "text/plain": [
       "['SISTERS FRUIT COMPANY, RED DELICIOUS SLICED APPLE CHIPS, LIGHT & CRISPY',\n",
       " 'PINTO BEANS',\n",
       " 'VANILLA ALMOND PREMIUM NATURALLY FLAVORED GRANOLA',\n",
       " \"BUSH'S Red Beans in a Mild Chili Sauce 16 oz\",\n",
       " 'FRUIT & NUT GRANOLA, FRUIT & NUT',\n",
       " 'VANILLA ALMOND WARM VANILLA FLAVOR PERFECTLY MIXED WITH SWEET HONEY AND SATISFYING ALMONDS PREMIUM GRANOLA, VANILLA ALMOND']"
      ]
     },
     "execution_count": 10,
     "metadata": {},
     "output_type": "execute_result"
    }
   ],
   "source": [
    "[d['description']  for d in filter_by_fiber(6.3,6.35)]"
   ]
  },
  {
   "cell_type": "markdown",
   "metadata": {},
   "source": [
    "# 6. [CSCI 503 Only] Filter by Ingredients (15 pts)"
   ]
  },
  {
   "cell_type": "code",
   "execution_count": 11,
   "metadata": {},
   "outputs": [],
   "source": [
    "def filter_by_ingredients(req_ingredient):\n",
    "    food_items = []\n",
    "    for dic in data:\n",
    "        ingredients = dic['ingredients']\n",
    "        if ingredients and ingredients!= None:\n",
    "            if req_ingredient.upper() in ingredients.upper():\n",
    "                food_items.append(dic)\n",
    "    return food_items"
   ]
  },
  {
   "cell_type": "code",
   "execution_count": 12,
   "metadata": {},
   "outputs": [
    {
     "data": {
      "text/plain": [
       "605"
      ]
     },
     "execution_count": 12,
     "metadata": {},
     "output_type": "execute_result"
    }
   ],
   "source": [
    "len(filter_by_ingredients('apple'))"
   ]
  },
  {
   "cell_type": "code",
   "execution_count": 13,
   "metadata": {},
   "outputs": [
    {
     "data": {
      "text/plain": [
       "['WILD MUSHROOM & TRUFFLE',\n",
       " 'ARTICHOKE HEARTS',\n",
       " 'FLAN DESSERT MIX',\n",
       " 'CHICKEN TIKKA MASALA WITH SAFFRON RICE, MEDIUM',\n",
       " 'CON AZAFRAN SEASONING',\n",
       " 'SEASONED YELLOWRICE']"
      ]
     },
     "execution_count": 13,
     "metadata": {},
     "output_type": "execute_result"
    }
   ],
   "source": [
    "[d['description'] for d in filter_by_ingredients('saffron')]"
   ]
  }
 ],
 "metadata": {
  "interpreter": {
   "hash": "0ffb6ad3ddc9a3eed4fab6da7ebd10ba38753f11748af7333f37886fee089390"
  },
  "kernelspec": {
   "display_name": "Python 3.9",
   "language": "python",
   "name": "python3"
  },
  "language_info": {
   "codemirror_mode": {
    "name": "ipython",
    "version": 3
   },
   "file_extension": ".py",
   "mimetype": "text/x-python",
   "name": "python",
   "nbconvert_exporter": "python",
   "pygments_lexer": "ipython3",
   "version": "3.9.9"
  }
 },
 "nbformat": 4,
 "nbformat_minor": 4
}
