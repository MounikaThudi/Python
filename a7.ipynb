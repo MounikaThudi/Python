{
 "cells": [
  {
   "cell_type": "markdown",
   "metadata": {
    "tags": []
   },
   "source": [
    "# 0.Name & Z-ID (5 pts)\n",
    "Mounika Thudi \\\n",
    "Z1948596 \\\n",
    "Assignment 7"
   ]
  },
  {
   "cell_type": "markdown",
   "metadata": {
    "tags": []
   },
   "source": [
    "# 1b. [CSCI 503] Download & Extract Files (30 pts)"
   ]
  },
  {
   "cell_type": "code",
   "execution_count": 1,
   "metadata": {},
   "outputs": [],
   "source": [
    "import nest_asyncio\n",
    "\n",
    "nest_asyncio.apply()\n"
   ]
  },
  {
   "cell_type": "code",
   "execution_count": 2,
   "metadata": {},
   "outputs": [],
   "source": [
    "import asyncio\n",
    "import aiohttp\n",
    "import shutil\n",
    "from pathlib import Path\n",
    "import os\n",
    "from concurrent.futures import ThreadPoolExecutor\n",
    "import pandas as pd\n",
    "import threading\n",
    "import numpy as np\n",
    "import glob"
   ]
  },
  {
   "cell_type": "code",
   "execution_count": 3,
   "metadata": {},
   "outputs": [
    {
     "name": "stdout",
     "output_type": "stream",
     "text": [
      "path exists......unemp-1980.zip\n",
      "path exists......unemp-1970.zip\n",
      "path exists......unemp-1990.zip\n",
      "path exists......unemp-2000.zip\n",
      "path exists......unemp-2010.zip\n",
      "path exists......unemp-2020.zip\n",
      "['unemp-1970.zip', 'unemp-1980.zip', 'unemp-1990.zip', 'unemp-2000.zip', 'unemp-2010.zip', 'unemp-2020.zip']\n",
      "zip file unemp-1970 extracted already\n",
      "zip file unemp-1980 extracted already\n",
      "zip file unemp-1990 extracted already\n",
      "zip file unemp-2000 extracted already\n",
      "zip file unemp-2010 extracted already\n",
      "zip file unemp-2020 extracted already\n"
     ]
    }
   ],
   "source": [
    "async def download_site(session, url):\n",
    "    async with session.get(url) as response:\n",
    "        \n",
    "        path_of_file = Path(url)\n",
    "        name_of_file= path_of_file.name\n",
    "        flag = False\n",
    "\n",
    "    async with session.get(url) as response:\n",
    "        if os.path.exists(name_of_file):\n",
    "            print(f'path exists......{name_of_file}')\n",
    "            flag = True\n",
    "        \n",
    "        if not flag:\n",
    "            with open(name_of_file, 'wb') as file:\n",
    "                async for data in response.content.iter_chunked(1024):\n",
    "                    file.write(data)\n",
    "    return name_of_file\n",
    "            \n",
    "\n",
    "async def download_all_sites(sites):\n",
    "    async with aiohttp.ClientSession() as session:\n",
    "        tasks = []\n",
    "        for url in sites:\n",
    "            task = asyncio.ensure_future(download_site(session, url))\n",
    "            tasks.append(task)\n",
    "        return await asyncio.gather(*tasks, return_exceptions=True)\n",
    "\n",
    "if __name__ == \"__main__\":\n",
    "    sites = [\n",
    "        \"http://faculty.cs.niu.edu/~dakoop/cs503-2022sp/a7/unemp-1970.zip\",\n",
    "        \"http://faculty.cs.niu.edu/~dakoop/cs503-2022sp/a7/unemp-1980.zip\",\n",
    "        \"http://faculty.cs.niu.edu/~dakoop/cs503-2022sp/a7/unemp-1990.zip\",\n",
    "        \"http://faculty.cs.niu.edu/~dakoop/cs503-2022sp/a7/unemp-2000.zip\",\n",
    "        \"http://faculty.cs.niu.edu/~dakoop/cs503-2022sp/a7/unemp-2010.zip\",\n",
    "        \"http://faculty.cs.niu.edu/~dakoop/cs503-2022sp/a7/unemp-2020.zip\",\n",
    "    ] * 1\n",
    "    downloaded_files=asyncio.get_event_loop().run_until_complete(download_all_sites(sites))\n",
    "    print(downloaded_files)\n",
    "    \n",
    "    cd = os.getcwd()\n",
    "    decades = [1970, 1980, 1990, 2000, 2010, 2020]         \n",
    "    for decade in decades:\n",
    "        #shutil.rmtree(f'unemp-{decade}')\n",
    "        if(not os.path.exists(os.path.join(cd, f'unemp-{decade}'))):\n",
    "            shutil.unpack_archive(f'unemp-{decade}.zip')\n",
    "            print(f'zip file unemp-{decade} extracted successfully')\n",
    "        else:\n",
    "            print(f'zip file unemp-{decade} extracted already')"
   ]
  },
  {
   "cell_type": "markdown",
   "metadata": {
    "tags": []
   },
   "source": [
    "# 2. Find Matching Files (10 pts)"
   ]
  },
  {
   "cell_type": "code",
   "execution_count": 4,
   "metadata": {},
   "outputs": [
    {
     "name": "stdout",
     "output_type": "stream",
     "text": [
      "['/home/z1948596/unemp-2010/employment.csv', '/home/z1948596/unemp-1970/unemp.csv', '/home/z1948596/unemp-2000/unemployment.csv', '/home/z1948596/unemp-2020/unemp.csv', '/home/z1948596/unemp-1990/employment.csv', '/home/z1948596/unemp-1980/unemp.csv']\n"
     ]
    }
   ],
   "source": [
    "current_directory=os. getcwd()\n",
    "all_csv_files = glob.glob(os.path.join(current_directory,'**', '*.csv'), recursive = True)\n",
    "print(all_csv_files)"
   ]
  },
  {
   "cell_type": "markdown",
   "metadata": {
    "tags": []
   },
   "source": [
    "# 3. Use Threads to Process Files (30 pts)"
   ]
  },
  {
   "cell_type": "code",
   "execution_count": 5,
   "metadata": {},
   "outputs": [],
   "source": [
    "my_lock = threading.Lock()\n",
    "dataframe_list= []\n",
    "def process_csv(filelist):\n",
    "    with my_lock:\n",
    "        \n",
    "        df = pd.read_csv(filelist)\n",
    "        df = df[['COUNTY','YEAR','LABOR_FORCE','EMPLOYED','UNEMPLOYED_NUMBER']]\n",
    "        df['COUNTY'] = df['COUNTY'].str.removesuffix(\" COUNTY\")\n",
    "        df['COUNTY'] = df['COUNTY'].str.upper()\n",
    "        newdf = df[df.COUNTY.isin(['DEKALB', 'KANE', 'BOONE', 'MCHENRY', 'WINNEBAGO', 'OGLE', 'LEE','KENDALL'])]\n",
    "        newdf=newdf.assign(RATE = newdf['UNEMPLOYED_NUMBER'] / newdf['LABOR_FORCE'])\n",
    "        dataframe_list.append(newdf)\n",
    "        \n",
    "        \n",
    "with ThreadPoolExecutor(max_workers=6) as executor:\n",
    "    all_data = executor.map(process_csv, all_csv_files, timeout=60)\n",
    "\n",
    "\n",
    "# concatenate, into single dataframe\n",
    "concat_data = pd.concat(dataframe_list,ignore_index=0) "
   ]
  },
  {
   "cell_type": "code",
   "execution_count": 6,
   "metadata": {},
   "outputs": [],
   "source": [
    "counties_no_suffix = ['DEKALB', 'KANE', 'BOONE', 'MCHENRY', 'WINNEBAGO', 'OGLE', 'LEE', 'KENDALL']  \n",
    "for cnty in counties_no_suffix:\n",
    "    concat_data[concat_data['COUNTY'].str.contains(cnty)].to_csv(cnty+'.csv.gz')"
   ]
  },
  {
   "cell_type": "code",
   "execution_count": 7,
   "metadata": {},
   "outputs": [
    {
     "name": "stdout",
     "output_type": "stream",
     "text": [
      "BOONE 0.08099938784155404\n",
      "DEKALB 0.05766694572727062\n",
      "KANE 0.06465744592318969\n",
      "KENDALL 0.055213620478529436\n",
      "LEE 0.06341724493660843\n",
      "MCHENRY 0.05963539940389765\n",
      "OGLE 0.06660581534993117\n",
      "WINNEBAGO 0.07757288231143362\n"
     ]
    }
   ],
   "source": [
    " for c in sorted(counties_no_suffix):\n",
    "    cdf = pd.read_csv(f'{c}.csv.gz')\n",
    "    print(c, cdf.RATE.mean())"
   ]
  }
 ],
 "metadata": {
  "kernelspec": {
   "display_name": "Python 3.9",
   "language": "python",
   "name": "python3"
  },
  "language_info": {
   "codemirror_mode": {
    "name": "ipython",
    "version": 3
   },
   "file_extension": ".py",
   "mimetype": "text/x-python",
   "name": "python",
   "nbconvert_exporter": "python",
   "pygments_lexer": "ipython3",
   "version": "3.9.9"
  }
 },
 "nbformat": 4,
 "nbformat_minor": 4
}
