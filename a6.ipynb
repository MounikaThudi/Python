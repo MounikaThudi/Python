{
 "cells": [
  {
   "cell_type": "markdown",
   "metadata": {
    "tags": []
   },
   "source": [
    "# 0.Name & Z-ID (5 pts)\n",
    "Mounika Thudi \\\n",
    "Z1948596 \\\n",
    "Assignment 6"
   ]
  },
  {
   "cell_type": "markdown",
   "metadata": {
    "tags": []
   },
   "source": [
    "# 1. Product Classes (20 pts)"
   ]
  },
  {
   "cell_type": "code",
   "execution_count": 1,
   "metadata": {},
   "outputs": [
    {
     "name": "stdout",
     "output_type": "stream",
     "text": [
      "Two items: Cheerios (38942) @ 3.99, Bananas (4011) @ 0.59/lb\n"
     ]
    }
   ],
   "source": [
    "#StoreItem is the baseclass\n",
    "class StoreItem:\n",
    "    name = \"\"\n",
    "    sku = \"\"\n",
    "    category = \"\"\n",
    "    price = \"\"\n",
    "    \n",
    "    def __init__(self, name, sku,price):\n",
    "        self.name = name\n",
    "        self.sku = sku\n",
    "        self.price = price\n",
    "    def __str__(self):\n",
    "        return f\"{self.name} ({self.sku}) @ {self.price}\"\n",
    "    \n",
    "#GroceryItem subclasses from  StoreItem      \n",
    "class GroceryItem(StoreItem):\n",
    "    def __init__(self, name,sku,price,nutrition={}):\n",
    "        super().__init__(name,sku,price)\n",
    "        self.nutrition = nutrition    \n",
    "    def __str__(self):\n",
    "        return f\"{self.name} ({self.sku}) @ {self.price}\"\n",
    "    \n",
    "#HouseholdItem subclasses from  StoreItem\n",
    "class HouseholdItem (StoreItem):\n",
    "    brand = \"\"\n",
    "    def __init__(self, name, sku,price,brand):\n",
    "        super().__init__(name,sku,price)\n",
    "        self.brand = brand\n",
    "    def __str__(self):\n",
    "        return f\"{self.name} ({self.sku}) @ {self.price} {self.brand}\"\n",
    "    \n",
    "#BulkItem subclasses from  StoreItem\n",
    "class BulkItem(GroceryItem):\n",
    "    nutrition={}\n",
    "    unit = \"\"\n",
    "    def __init__(self, name, sku,price,unit):\n",
    "        super().__init__(name,sku,price)\n",
    "        self.unit = unit \n",
    "    def __str__(self):\n",
    "        return f\"{self.name} ({self.sku}) @ {self.price}/{self.unit}\"\n",
    "        \n",
    "cereal = GroceryItem(\"Cheerios\", 38942, 3.99, {'calories': 200, 'fat': 0})\n",
    "bananas = BulkItem(\"Bananas\", 4011, 0.59,\"lb\")\n",
    "print(f\"Two items: {cereal}, {bananas}\")\n"
   ]
  },
  {
   "cell_type": "markdown",
   "metadata": {
    "tags": []
   },
   "source": [
    "# 2. Inventory Class (20 pts)"
   ]
  },
  {
   "cell_type": "code",
   "execution_count": 2,
   "metadata": {},
   "outputs": [],
   "source": [
    "class inventory:\n",
    "    \n",
    "    def __init__(self):\n",
    "        self.inventory_store={}\n",
    "        \n",
    "    # add_items method    \n",
    "    def add_items(self,StoreItem_object,amount):\n",
    "        self.inventory_store[StoreItem_object.sku]={'item':StoreItem_object,'amount':amount}\n",
    "        \n",
    "    # remove_items method\n",
    "    def remove_items(self,StoreItem_object,amount):\n",
    "        if self.has_enough(StoreItem_object,amount):\n",
    "            self.inventory_store[StoreItem_object['item'].sku]['amount']-= amount\n",
    "        else:\n",
    "            raise Exception (\"Inventory doesn't exist these many items in stock, there are less items than you need\")\n",
    "            \n",
    "    # find_item method by sku,if sku doesn't exist raise keyerror\n",
    "    def find_item(self,sku_id):\n",
    "        for sku,dict in self.inventory_store.items():\n",
    "            if sku_id ==sku:\n",
    "                return self.inventory_store[sku_id]\n",
    "            \n",
    "            \n",
    "        raise KeyError(\"No item with particular skuid,Item searched is not present in the inventory stock, search for other items you need\")\n",
    "\n",
    "    \n",
    "    # has_enough method to check for number for items required are in stock or not            \n",
    "    def has_enough(self,StoreItem_object,amount):\n",
    "        for x,y in self.inventory_store.items():\n",
    "            if (id(y['item'])==id(StoreItem_object)):          # check for item\n",
    "                return True if y['amount']>=amount else False  # check for amount\n",
    "                    \n",
    "    # method for human readable string            \n",
    "    def __str__(self):\n",
    "        result = \"\"\n",
    "        for obj in self.inventory_store.values():\n",
    "            result+= f\"{obj['amount']} {obj['item']}\\n\"\n",
    "        return result"
   ]
  },
  {
   "cell_type": "markdown",
   "metadata": {
    "tags": []
   },
   "source": [
    "# 3. ShoppingCart Class (20 pts) and Added Extra Credit- Transfer shopping cart items"
   ]
  },
  {
   "cell_type": "code",
   "execution_count": 3,
   "metadata": {},
   "outputs": [],
   "source": [
    "class ShoppingCart: \n",
    "    def __init__(self,inventory):\n",
    "        self.cart_store={}\n",
    "        self.inventory = inventory\n",
    "        \n",
    "    def add_items(self,StoreItem_object,amount):\n",
    "        if (not self.inventory.has_enough(StoreItem_object['item'],amount)):\n",
    "            raise Exception (\"Inventory doesn't exist these many items in stock, there are less items than you need\")\n",
    "        if (not float(amount).is_integer()) and not isinstance (StoreItem_object['item'],BulkItem):\n",
    "            raise Exception(\"Only Bulk items do allow fractional amounts!, Other Items doesn't allow non-integer amount of an item\")\n",
    "        else:\n",
    "            self.cart_store[StoreItem_object['item'].sku] = {'item':StoreItem_object['item'],'amount':amount}\n",
    "             \n",
    "        \n",
    "    def remove_items(self,StoreItem_object,amount):\n",
    "        try:\n",
    "            self.cart_store[StoreItem_object['item'].sku] \n",
    "        except Exception:\n",
    "            print(\"Item searched to remove from shopping cart doesn't exist in shopping cart\")\n",
    "        else:\n",
    "            self.cart_store[StoreItem_object['item'].sku]['amount']-=amount\n",
    "    \n",
    "    def __add__(self,StoreItem_object):\n",
    "        self.cart[StoreItem_object.sku]['amount']+=1\n",
    "        \n",
    "    def __sub__(self,StoreItem_object):\n",
    "        self.cart_store[StoreItem_object.sku]['amount']-=1\n",
    "                \n",
    "    def cost(self):\n",
    "        total_cost=0\n",
    "        for obj in self.cart_store.values():\n",
    "            total_cost+= obj['item'].price*int(obj['amount'])\n",
    "        return total_cost\n",
    "    \n",
    "    # Extra credits to transfer items from one shopping cart to other\n",
    "    def transfer_items(self, cart):\n",
    "        for obj in cart.cart_store.values():\n",
    "            self.cart_store[obj['item'].sku] = {'item':obj['item'],'amount': obj['amount']}\n",
    "\n",
    "    def __str__(self):\n",
    "        result = \"\"\n",
    "        for obj in self.cart_store.values():\n",
    "            result+= f\"{obj['amount']} {obj['item']}\\n\"\n",
    "        return result"
   ]
  },
  {
   "cell_type": "markdown",
   "metadata": {
    "tags": []
   },
   "source": [
    "# 4. Store Class (20 pts) and Extra Credit support in other way"
   ]
  },
  {
   "cell_type": "code",
   "execution_count": 4,
   "metadata": {
    "tags": []
   },
   "outputs": [],
   "source": [
    "class Store:\n",
    "    MAX_CARTS=10\n",
    "    def __init__(self):\n",
    "        self.shopping_carts_data ={}\n",
    "        self.carts_number= 0\n",
    "        self.inventory=inventory()\n",
    "    \n",
    "    def  get_cart(self):\n",
    "        self.carts_number+=1\n",
    "        if self.carts_number > Store.MAX_CARTS:\n",
    "            raise Exception('Too many carts are in use, MAX carts in store are 10 only')\n",
    "        \n",
    "        new_shopping_cart = ShoppingCart(self.inventory)\n",
    "        self.shopping_carts_data[id(new_shopping_cart)]=new_shopping_cart\n",
    "        return new_shopping_cart\n",
    "       \n",
    "            \n",
    "    def checkout(self,new_shopping_cart):\n",
    "        cart_items= self.shopping_carts_data[id(new_shopping_cart)]\n",
    "        for obj in cart_items.cart_store.values():\n",
    "            #print(self.shopping_carts_data[id(cart)])\n",
    "            sku_id=(obj['item'].sku)\n",
    "            self.inventory.find_item(sku_id)['amount']-=obj['amount'] # removes items added to shopping cart from the inventory\n",
    "        total_amount = cart_items.cost() # calculates total cost of shopping cart\n",
    "        \n",
    "        del cart_items   #removecart from the store\n",
    "        return total_amount\n",
    "    \n",
    "    # Extra credit support for transferring items from one shopping cart to another ( tried in another way)\n",
    "    def shopping_cart_transfer_items(self,source_cart,destination_cart,StoreItem_object):\n",
    "        #source cart items are stored by taking id of source_cart\n",
    "        self.shopping_carts_data[id(source_cart)]  = source_cart\n",
    "        source_cart_items = self.shopping_carts_data[id(source_cart)] \n",
    "        #in this line of code transfer item object is taken\n",
    "        transfer_unit = source_cart_items.cart_store[StoreItem_object['item'].sku] \n",
    "        #initial destination_cart items  by taking id of destination_cart\n",
    "        self.shopping_carts_data[id(destination_cart)] = destination_cart\n",
    "        destination_cart_items= self.shopping_carts_data[id(destination_cart)]\n",
    "        # adding items to the destination cart\n",
    "        destination_cart_items.add_items(transfer_unit,transfer_unit['amount'])\n",
    "        #deleting transfered unit from the source_cart\n",
    "        del source_cart_items.cart_store[StoreItem_object['item'].sku]\n",
    "        #returning souce_cart_items and destination_cart_items\n",
    "        return source_cart_items,destination_cart_items\n",
    "                    "
   ]
  },
  {
   "cell_type": "markdown",
   "metadata": {
    "tags": []
   },
   "source": [
    "# 6. Summary and Testing"
   ]
  },
  {
   "cell_type": "code",
   "execution_count": 12,
   "metadata": {},
   "outputs": [
    {
     "name": "stdout",
     "output_type": "stream",
     "text": [
      "Inventory:\n",
      "10 Cheerios (38942) @ 3.99\n",
      "30 Trash Bags (38902) @ 5.99 Hefty\n",
      "20 Bananas (4011) @ 0.59/lb\n",
      "25 Lettuce (3982) @ 2.99/head\n",
      "1 Oreos (27894) @ 3.29\n",
      "\n",
      "Cart:\n",
      "3 Bananas (4011) @ 0.59/lb\n",
      "1 Trash Bags (38902) @ 5.99 Hefty\n",
      "1 Oreos (27894) @ 3.29\n",
      "\n",
      "You spent $11.05\n",
      "Updated Inventory:\n",
      "10 Cheerios (38942) @ 3.99\n",
      "29 Trash Bags (38902) @ 5.99 Hefty\n",
      "17 Bananas (4011) @ 0.59/lb\n",
      "25 Lettuce (3982) @ 2.99/head\n",
      "0 Oreos (27894) @ 3.29\n",
      "\n"
     ]
    }
   ],
   "source": [
    "store = Store()\n",
    "store.inventory.add_items(GroceryItem(\"Cheerios\", 38942, 3.99, {'calories': 200, 'fat': 0}), 10)\n",
    "store.inventory.add_items(HouseholdItem(\"Trash Bags\", 38902, 5.99, \"Hefty\"), 30)\n",
    "store.inventory.add_items(BulkItem(\"Bananas\", 4011, 0.59, \"lb\"), 20)\n",
    "store.inventory.add_items(BulkItem(\"Lettuce\", 3982, 2.99, \"head\"), 25)\n",
    "store.inventory.add_items(GroceryItem(\"Oreos\", 27894, 3.29), 1)\n",
    "\n",
    "print(\"Inventory:\")\n",
    "print(store.inventory)\n",
    "my_cart = store.get_cart()\n",
    "my_cart.add_items(store.inventory.find_item(4011), 3)\n",
    "my_cart.add_items(store.inventory.find_item(38902),1)\n",
    "my_cart.add_items(store.inventory.find_item(27894), 1)\n",
    "print(\"Cart:\")\n",
    "print(my_cart)\n",
    "\n",
    "total_cost = store.checkout(my_cart)\n",
    "print(f\"You spent ${total_cost}\")\n",
    "\n",
    "print(\"Updated Inventory:\")\n",
    "print(store.inventory)"
   ]
  },
  {
   "cell_type": "markdown",
   "metadata": {
    "tags": []
   },
   "source": [
    "# Extra credit- support for transfering items from one cart to another"
   ]
  },
  {
   "cell_type": "code",
   "execution_count": 13,
   "metadata": {
    "colab": {
     "base_uri": "https://localhost:8080/"
    },
    "id": "TnmKAPNq1JWB",
    "outputId": "143e30e3-832e-4250-947b-4af707d1fcec"
   },
   "outputs": [
    {
     "name": "stdout",
     "output_type": "stream",
     "text": [
      "1 Lettuce (3982) @ 2.99/head\n",
      "\n"
     ]
    }
   ],
   "source": [
    "new_cart = store.get_cart()\n",
    "new_cart.add_items(store.inventory.find_item(3982),1)\n",
    "print(new_cart)"
   ]
  },
  {
   "cell_type": "code",
   "execution_count": 14,
   "metadata": {
    "colab": {
     "base_uri": "https://localhost:8080/"
    },
    "id": "9Z_CCO4Hzeo7",
    "outputId": "55d75ac4-67f1-4581-e2b3-7f435b249dfb"
   },
   "outputs": [
    {
     "name": "stdout",
     "output_type": "stream",
     "text": [
      "Before transfer cart items:\n",
      "3 Bananas (4011) @ 0.59/lb\n",
      "1 Trash Bags (38902) @ 5.99 Hefty\n",
      "\n",
      "After transfer items:\n",
      "3 Bananas (4011) @ 0.59/lb\n",
      "1 Trash Bags (38902) @ 5.99 Hefty\n",
      "1 Lettuce (3982) @ 2.99/head\n",
      "\n"
     ]
    }
   ],
   "source": [
    "my_cart = store.get_cart()\n",
    "my_cart.add_items(store.inventory.find_item(4011), 3)\n",
    "my_cart.add_items(store.inventory.find_item(38902),1)\n",
    "print(\"Before transfer cart items:\")\n",
    "print(my_cart)\n",
    "my_cart.transfer_items(new_cart)\n",
    "print(\"After transfer items:\")\n",
    "print(my_cart)"
   ]
  },
  {
   "cell_type": "markdown",
   "metadata": {
    "tags": []
   },
   "source": [
    "# 5. [CS503 Only] Exceptions (15 pts)"
   ]
  },
  {
   "cell_type": "code",
   "execution_count": 15,
   "metadata": {},
   "outputs": [
    {
     "ename": "KeyError",
     "evalue": "'No item with particular skuid,Item searched is not present in the inventory stock, search for other items you need'",
     "output_type": "error",
     "traceback": [
      "\u001b[0;31m---------------------------------------------------------------------------\u001b[0m",
      "\u001b[0;31mKeyError\u001b[0m                                  Traceback (most recent call last)",
      "Input \u001b[0;32mIn [15]\u001b[0m, in \u001b[0;36m<module>\u001b[0;34m\u001b[0m\n\u001b[1;32m      1\u001b[0m my_cart \u001b[38;5;241m=\u001b[39m store\u001b[38;5;241m.\u001b[39mget_cart()\n\u001b[0;32m----> 2\u001b[0m my_cart\u001b[38;5;241m.\u001b[39madd_items(\u001b[43mstore\u001b[49m\u001b[38;5;241;43m.\u001b[39;49m\u001b[43minventory\u001b[49m\u001b[38;5;241;43m.\u001b[39;49m\u001b[43mfind_item\u001b[49m\u001b[43m(\u001b[49m\u001b[38;5;241;43m4013\u001b[39;49m\u001b[43m)\u001b[49m, \u001b[38;5;241m3\u001b[39m)\n",
      "Input \u001b[0;32mIn [2]\u001b[0m, in \u001b[0;36minventory.find_item\u001b[0;34m(self, sku_id)\u001b[0m\n\u001b[1;32m     20\u001b[0m     \u001b[38;5;28;01mif\u001b[39;00m sku_id \u001b[38;5;241m==\u001b[39msku:\n\u001b[1;32m     21\u001b[0m         \u001b[38;5;28;01mreturn\u001b[39;00m \u001b[38;5;28mself\u001b[39m\u001b[38;5;241m.\u001b[39minventory_store[sku_id]\n\u001b[0;32m---> 24\u001b[0m \u001b[38;5;28;01mraise\u001b[39;00m \u001b[38;5;167;01mKeyError\u001b[39;00m(\u001b[38;5;124m\"\u001b[39m\u001b[38;5;124mNo item with particular skuid,Item searched is not present in the inventory stock, search for other items you need\u001b[39m\u001b[38;5;124m\"\u001b[39m)\n",
      "\u001b[0;31mKeyError\u001b[0m: 'No item with particular skuid,Item searched is not present in the inventory stock, search for other items you need'"
     ]
    }
   ],
   "source": [
    "my_cart = store.get_cart()\n",
    "my_cart.add_items(store.inventory.find_item(4013), 3) # raises your  exception"
   ]
  },
  {
   "cell_type": "code",
   "execution_count": 9,
   "metadata": {},
   "outputs": [
    {
     "ename": "Exception",
     "evalue": "Only Bulk items do allow fractional amounts!, Other Items doesn't allow non-integer amount of an item",
     "output_type": "error",
     "traceback": [
      "\u001b[0;31m---------------------------------------------------------------------------\u001b[0m",
      "\u001b[0;31mException\u001b[0m                                 Traceback (most recent call last)",
      "Input \u001b[0;32mIn [9]\u001b[0m, in \u001b[0;36m<module>\u001b[0;34m\u001b[0m\n\u001b[0;32m----> 1\u001b[0m \u001b[43mmy_cart\u001b[49m\u001b[38;5;241;43m.\u001b[39;49m\u001b[43madd_items\u001b[49m\u001b[43m(\u001b[49m\u001b[43mstore\u001b[49m\u001b[38;5;241;43m.\u001b[39;49m\u001b[43minventory\u001b[49m\u001b[38;5;241;43m.\u001b[39;49m\u001b[43mfind_item\u001b[49m\u001b[43m(\u001b[49m\u001b[38;5;241;43m38902\u001b[39;49m\u001b[43m)\u001b[49m\u001b[43m,\u001b[49m\u001b[43m \u001b[49m\u001b[38;5;241;43m1.5\u001b[39;49m\u001b[43m)\u001b[49m\n",
      "Input \u001b[0;32mIn [3]\u001b[0m, in \u001b[0;36mShoppingCart.add_items\u001b[0;34m(self, StoreItem_object, amount)\u001b[0m\n\u001b[1;32m      8\u001b[0m     \u001b[38;5;28;01mraise\u001b[39;00m \u001b[38;5;167;01mException\u001b[39;00m (\u001b[38;5;124m\"\u001b[39m\u001b[38;5;124mInventory doesn\u001b[39m\u001b[38;5;124m'\u001b[39m\u001b[38;5;124mt exist these many items in stock, there are less items than you need\u001b[39m\u001b[38;5;124m\"\u001b[39m)\n\u001b[1;32m      9\u001b[0m \u001b[38;5;28;01mif\u001b[39;00m (\u001b[38;5;129;01mnot\u001b[39;00m \u001b[38;5;28mfloat\u001b[39m(amount)\u001b[38;5;241m.\u001b[39mis_integer()) \u001b[38;5;129;01mand\u001b[39;00m \u001b[38;5;129;01mnot\u001b[39;00m \u001b[38;5;28misinstance\u001b[39m (StoreItem_object[\u001b[38;5;124m'\u001b[39m\u001b[38;5;124mitem\u001b[39m\u001b[38;5;124m'\u001b[39m],BulkItem):\n\u001b[0;32m---> 10\u001b[0m     \u001b[38;5;28;01mraise\u001b[39;00m \u001b[38;5;167;01mException\u001b[39;00m(\u001b[38;5;124m\"\u001b[39m\u001b[38;5;124mOnly Bulk items do allow fractional amounts!, Other Items doesn\u001b[39m\u001b[38;5;124m'\u001b[39m\u001b[38;5;124mt allow non-integer amount of an item\u001b[39m\u001b[38;5;124m\"\u001b[39m)\n\u001b[1;32m     11\u001b[0m \u001b[38;5;28;01melse\u001b[39;00m:\n\u001b[1;32m     12\u001b[0m     \u001b[38;5;28mself\u001b[39m\u001b[38;5;241m.\u001b[39mcart_store[StoreItem_object[\u001b[38;5;124m'\u001b[39m\u001b[38;5;124mitem\u001b[39m\u001b[38;5;124m'\u001b[39m]\u001b[38;5;241m.\u001b[39msku] \u001b[38;5;241m=\u001b[39m {\u001b[38;5;124m'\u001b[39m\u001b[38;5;124mitem\u001b[39m\u001b[38;5;124m'\u001b[39m:StoreItem_object[\u001b[38;5;124m'\u001b[39m\u001b[38;5;124mitem\u001b[39m\u001b[38;5;124m'\u001b[39m],\u001b[38;5;124m'\u001b[39m\u001b[38;5;124mamount\u001b[39m\u001b[38;5;124m'\u001b[39m:amount}\n",
      "\u001b[0;31mException\u001b[0m: Only Bulk items do allow fractional amounts!, Other Items doesn't allow non-integer amount of an item"
     ]
    }
   ],
   "source": [
    "my_cart.add_items(store.inventory.find_item(38902), 1.5) # raises your exception"
   ]
  },
  {
   "cell_type": "code",
   "execution_count": 10,
   "metadata": {},
   "outputs": [
    {
     "ename": "Exception",
     "evalue": "Inventory doesn't exist these many items in stock, there are less items than you need",
     "output_type": "error",
     "traceback": [
      "\u001b[0;31m---------------------------------------------------------------------------\u001b[0m",
      "\u001b[0;31mException\u001b[0m                                 Traceback (most recent call last)",
      "Input \u001b[0;32mIn [10]\u001b[0m, in \u001b[0;36m<module>\u001b[0;34m\u001b[0m\n\u001b[0;32m----> 1\u001b[0m \u001b[43mstore\u001b[49m\u001b[38;5;241;43m.\u001b[39;49m\u001b[43minventory\u001b[49m\u001b[38;5;241;43m.\u001b[39;49m\u001b[43mremove_items\u001b[49m\u001b[43m(\u001b[49m\u001b[43mstore\u001b[49m\u001b[38;5;241;43m.\u001b[39;49m\u001b[43minventory\u001b[49m\u001b[38;5;241;43m.\u001b[39;49m\u001b[43mfind_item\u001b[49m\u001b[43m(\u001b[49m\u001b[38;5;241;43m27894\u001b[39;49m\u001b[43m)\u001b[49m\u001b[43m,\u001b[49m\u001b[43m \u001b[49m\u001b[38;5;241;43m3\u001b[39;49m\u001b[43m)\u001b[49m\n",
      "Input \u001b[0;32mIn [2]\u001b[0m, in \u001b[0;36minventory.remove_items\u001b[0;34m(self, StoreItem_object, amount)\u001b[0m\n\u001b[1;32m     13\u001b[0m     \u001b[38;5;28mself\u001b[39m\u001b[38;5;241m.\u001b[39minventory_store[StoreItem_object[\u001b[38;5;124m'\u001b[39m\u001b[38;5;124mitem\u001b[39m\u001b[38;5;124m'\u001b[39m]\u001b[38;5;241m.\u001b[39msku][\u001b[38;5;124m'\u001b[39m\u001b[38;5;124mamount\u001b[39m\u001b[38;5;124m'\u001b[39m]\u001b[38;5;241m-\u001b[39m\u001b[38;5;241m=\u001b[39m amount\n\u001b[1;32m     14\u001b[0m \u001b[38;5;28;01melse\u001b[39;00m:\n\u001b[0;32m---> 15\u001b[0m     \u001b[38;5;28;01mraise\u001b[39;00m \u001b[38;5;167;01mException\u001b[39;00m (\u001b[38;5;124m\"\u001b[39m\u001b[38;5;124mInventory doesn\u001b[39m\u001b[38;5;124m'\u001b[39m\u001b[38;5;124mt exist these many items in stock, there are less items than you need\u001b[39m\u001b[38;5;124m\"\u001b[39m)\n",
      "\u001b[0;31mException\u001b[0m: Inventory doesn't exist these many items in stock, there are less items than you need"
     ]
    }
   ],
   "source": [
    "store.inventory.remove_items(store.inventory.find_item(27894), 3) # raises your exception"
   ]
  },
  {
   "cell_type": "code",
   "execution_count": 11,
   "metadata": {},
   "outputs": [
    {
     "ename": "Exception",
     "evalue": "Too many carts are in use, MAX carts in store are 10 only",
     "output_type": "error",
     "traceback": [
      "\u001b[0;31m---------------------------------------------------------------------------\u001b[0m",
      "\u001b[0;31mException\u001b[0m                                 Traceback (most recent call last)",
      "Input \u001b[0;32mIn [11]\u001b[0m, in \u001b[0;36m<module>\u001b[0;34m\u001b[0m\n\u001b[1;32m      1\u001b[0m \u001b[38;5;28;01mfor\u001b[39;00m i \u001b[38;5;129;01min\u001b[39;00m \u001b[38;5;28mrange\u001b[39m(\u001b[38;5;241m20\u001b[39m):  \u001b[38;5;66;03m# too many carts exception\u001b[39;00m\n\u001b[0;32m----> 2\u001b[0m     \u001b[43mstore\u001b[49m\u001b[38;5;241;43m.\u001b[39;49m\u001b[43mget_cart\u001b[49m\u001b[43m(\u001b[49m\u001b[43m)\u001b[49m\n",
      "Input \u001b[0;32mIn [4]\u001b[0m, in \u001b[0;36mStore.get_cart\u001b[0;34m(self)\u001b[0m\n\u001b[1;32m      9\u001b[0m \u001b[38;5;28mself\u001b[39m\u001b[38;5;241m.\u001b[39mcarts_number\u001b[38;5;241m+\u001b[39m\u001b[38;5;241m=\u001b[39m\u001b[38;5;241m1\u001b[39m\n\u001b[1;32m     10\u001b[0m \u001b[38;5;28;01mif\u001b[39;00m \u001b[38;5;28mself\u001b[39m\u001b[38;5;241m.\u001b[39mcarts_number \u001b[38;5;241m>\u001b[39m\u001b[38;5;241m=\u001b[39m Store\u001b[38;5;241m.\u001b[39mMAX_CARTS:\n\u001b[0;32m---> 11\u001b[0m     \u001b[38;5;28;01mraise\u001b[39;00m \u001b[38;5;167;01mException\u001b[39;00m(\u001b[38;5;124m'\u001b[39m\u001b[38;5;124mToo many carts are in use, MAX carts in store are 10 only\u001b[39m\u001b[38;5;124m'\u001b[39m)\n\u001b[1;32m     13\u001b[0m new_shopping_cart \u001b[38;5;241m=\u001b[39m ShoppingCart(\u001b[38;5;28mself\u001b[39m\u001b[38;5;241m.\u001b[39minventory)\n\u001b[1;32m     14\u001b[0m \u001b[38;5;28mself\u001b[39m\u001b[38;5;241m.\u001b[39mshopping_carts_data[\u001b[38;5;28mid\u001b[39m(new_shopping_cart)]\u001b[38;5;241m=\u001b[39mnew_shopping_cart\n",
      "\u001b[0;31mException\u001b[0m: Too many carts are in use, MAX carts in store are 10 only"
     ]
    }
   ],
   "source": [
    "for i in range(20):  # too many carts exception\n",
    "    store.get_cart()"
   ]
  },
  {
   "cell_type": "code",
   "execution_count": null,
   "metadata": {},
   "outputs": [],
   "source": []
  }
 ],
 "metadata": {
  "kernelspec": {
   "display_name": "Python 3.9",
   "language": "python",
   "name": "python3"
  },
  "language_info": {
   "codemirror_mode": {
    "name": "ipython",
    "version": 3
   },
   "file_extension": ".py",
   "mimetype": "text/x-python",
   "name": "python",
   "nbconvert_exporter": "python",
   "pygments_lexer": "ipython3",
   "version": "3.9.9"
  }
 },
 "nbformat": 4,
 "nbformat_minor": 4
}
